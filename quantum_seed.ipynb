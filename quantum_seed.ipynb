{
  "nbformat": 4,
  "nbformat_minor": 0,
  "metadata": {
    "colab": {
      "provenance": [],
      "authorship_tag": "ABX9TyMtxhe392ebq7rzekOVdHEO",
      "include_colab_link": true
    },
    "kernelspec": {
      "name": "python3",
      "display_name": "Python 3"
    },
    "language_info": {
      "name": "python"
    }
  },
  "cells": [
    {
      "cell_type": "markdown",
      "metadata": {
        "id": "view-in-github",
        "colab_type": "text"
      },
      "source": [
        "<a href=\"https://colab.research.google.com/github/jahaltom/Quantum-Computing/blob/main/quantum_seed.ipynb\" target=\"_parent\"><img src=\"https://colab.research.google.com/assets/colab-badge.svg\" alt=\"Open In Colab\"/></a>"
      ]
    },
    {
      "cell_type": "code",
      "execution_count": null,
      "metadata": {
        "id": "0vlXx_SKtNUg"
      },
      "outputs": [],
      "source": [
        "%pip install qiskit qiskit-ibm-runtime qiskit-aer"
      ]
    },
    {
      "cell_type": "code",
      "source": [
        "from qiskit_ibm_runtime import QiskitRuntimeService\n",
        "\n",
        "# Replace 'MY_TOKEN' with your actual token from the IBM Quantum dashboard\n",
        "QiskitRuntimeService.save_account(channel=\"ibm_quantum\", token=\"199e9fd718fa0ab121194282b5108cf0e752b773a6823ddf8b9da82d4de780d0fa22c0681ec95fb8b767fcf3314921f1fb2c9f92ad580698ec9f382d21e0dda9\", overwrite=True)\n",
        "\n",
        "\n"
      ],
      "metadata": {
        "id": "1x5RIIxYvdIm"
      },
      "execution_count": null,
      "outputs": []
    },
    {
      "cell_type": "code",
      "source": [
        "from qiskit import QuantumCircuit, transpile\n",
        "from qiskit_ibm_runtime import QiskitRuntimeService, Sampler\n",
        "import numpy as np\n",
        "\n",
        "# Initialize the Qiskit Runtime service\n",
        "service = QiskitRuntimeService(channel=\"ibm_cloud\")\n",
        "\n",
        "# Select an operational backend with at least 16 qubits\n",
        "backends = service.backends(\n",
        "    filters=lambda b: not b.configuration().simulator and b.status().operational and b.configuration().n_qubits >= 16\n",
        ")\n",
        "backend = sorted(backends, key=lambda b: b.status().pending_jobs)[0]\n",
        "print(f\"Using backend: {backend.name}\")\n",
        "\n",
        "def get_real_quantum_random_bits(num_bits=16):\n",
        "    # Create a quantum circuit with Hadamard gates and measurements\n",
        "    qc = QuantumCircuit(num_bits)\n",
        "    qc.h(range(num_bits))\n",
        "    qc.measure_all()\n",
        "\n",
        "    # Transpile the circuit for the selected backend\n",
        "    transpiled_circuit = transpile(qc, backend=backend, optimization_level=0)\n",
        "\n",
        "    # Initialize the Sampler with the selected backend\n",
        "    sampler = Sampler(mode=backend)\n",
        "\n",
        "    # Run the circuit using the Sampler\n",
        "    job = sampler.run([transpiled_circuit])\n",
        "    result = job.result()\n",
        "\n",
        "    # Retrieve counts from the result\n",
        "    counts = result[0].data.meas.get_counts()\n",
        "\n",
        "    # Get the most frequent bitstring\n",
        "    bitstring = max(counts, key=counts.get)\n",
        "    return [int(bit) for bit in bitstring.zfill(num_bits)]\n",
        "\n",
        "# Generate quantum random bits and seed NumPy's RNG\n",
        "quantum_bits = get_real_quantum_random_bits(16)\n",
        "quantum_seed = int(\"\".join(map(str, quantum_bits)), 2)\n",
        "\n",
        "print(\"Quantum bits:\", quantum_bits)\n",
        "print(\"Quantum seed:\", quantum_seed)\n",
        "\n",
        "np.random.seed(quantum_seed)\n"
      ],
      "metadata": {
        "colab": {
          "base_uri": "https://localhost:8080/"
        },
        "id": "1c58_9H7YtKm",
        "outputId": "917d15e2-862c-4c8f-d574-a940367c23e2"
      },
      "execution_count": 87,
      "outputs": [
        {
          "output_type": "stream",
          "name": "stderr",
          "text": [
            "<ipython-input-87-1013da17d232>:6: DeprecationWarning: The \"ibm_quantum\" channel option is deprecated and will be sunset on 1 July. After this date, ibm_cloud will be the only valid channel. For information on migrating to the new IBM Quantum Platform on the \"ibm_cloud\" channel, review the migration guide https://quantum.cloud.ibm.com/docs/migration-guides/classic-iqp-to-cloud-iqp .\n",
            "  service = QiskitRuntimeService(channel=\"ibm_cloud\")\n"
          ]
        },
        {
          "output_type": "stream",
          "name": "stdout",
          "text": [
            "Using backend: ibm_sherbrooke\n",
            "Quantum bits: [1, 0, 0, 0, 0, 1, 1, 1, 0, 1, 0, 1, 0, 1, 1, 0]\n",
            "Quantum seed: 34646\n"
          ]
        }
      ]
    },
    {
      "cell_type": "code",
      "source": [
        "from qiskit import QuantumCircuit\n",
        "\n",
        "qc = QuantumCircuit(16)\n",
        "qc.h(range(16))\n",
        "qc.measure_all()\n",
        "\n",
        "print(qc.draw(output=\"text\"))\n"
      ],
      "metadata": {
        "colab": {
          "base_uri": "https://localhost:8080/"
        },
        "id": "ILJ4ddI4kh0N",
        "outputId": "2f7dc67f-429b-41e6-8f0c-d58d6e50b389"
      },
      "execution_count": 95,
      "outputs": [
        {
          "output_type": "stream",
          "name": "stdout",
          "text": [
            "         ┌───┐ ░ ┌─┐                                             \n",
            "    q_0: ┤ H ├─░─┤M├─────────────────────────────────────────────\n",
            "         ├───┤ ░ └╥┘┌─┐                                          \n",
            "    q_1: ┤ H ├─░──╫─┤M├──────────────────────────────────────────\n",
            "         ├───┤ ░  ║ └╥┘┌─┐                                       \n",
            "    q_2: ┤ H ├─░──╫──╫─┤M├───────────────────────────────────────\n",
            "         ├───┤ ░  ║  ║ └╥┘┌─┐                                    \n",
            "    q_3: ┤ H ├─░──╫──╫──╫─┤M├────────────────────────────────────\n",
            "         ├───┤ ░  ║  ║  ║ └╥┘┌─┐                                 \n",
            "    q_4: ┤ H ├─░──╫──╫──╫──╫─┤M├─────────────────────────────────\n",
            "         ├───┤ ░  ║  ║  ║  ║ └╥┘┌─┐                              \n",
            "    q_5: ┤ H ├─░──╫──╫──╫──╫──╫─┤M├──────────────────────────────\n",
            "         ├───┤ ░  ║  ║  ║  ║  ║ └╥┘┌─┐                           \n",
            "    q_6: ┤ H ├─░──╫──╫──╫──╫──╫──╫─┤M├───────────────────────────\n",
            "         ├───┤ ░  ║  ║  ║  ║  ║  ║ └╥┘┌─┐                        \n",
            "    q_7: ┤ H ├─░──╫──╫──╫──╫──╫──╫──╫─┤M├────────────────────────\n",
            "         ├───┤ ░  ║  ║  ║  ║  ║  ║  ║ └╥┘┌─┐                     \n",
            "    q_8: ┤ H ├─░──╫──╫──╫──╫──╫──╫──╫──╫─┤M├─────────────────────\n",
            "         ├───┤ ░  ║  ║  ║  ║  ║  ║  ║  ║ └╥┘┌─┐                  \n",
            "    q_9: ┤ H ├─░──╫──╫──╫──╫──╫──╫──╫──╫──╫─┤M├──────────────────\n",
            "         ├───┤ ░  ║  ║  ║  ║  ║  ║  ║  ║  ║ └╥┘┌─┐               \n",
            "   q_10: ┤ H ├─░──╫──╫──╫──╫──╫──╫──╫──╫──╫──╫─┤M├───────────────\n",
            "         ├───┤ ░  ║  ║  ║  ║  ║  ║  ║  ║  ║  ║ └╥┘┌─┐            \n",
            "   q_11: ┤ H ├─░──╫──╫──╫──╫──╫──╫──╫──╫──╫──╫──╫─┤M├────────────\n",
            "         ├───┤ ░  ║  ║  ║  ║  ║  ║  ║  ║  ║  ║  ║ └╥┘┌─┐         \n",
            "   q_12: ┤ H ├─░──╫──╫──╫──╫──╫──╫──╫──╫──╫──╫──╫──╫─┤M├─────────\n",
            "         ├───┤ ░  ║  ║  ║  ║  ║  ║  ║  ║  ║  ║  ║  ║ └╥┘┌─┐      \n",
            "   q_13: ┤ H ├─░──╫──╫──╫──╫──╫──╫──╫──╫──╫──╫──╫──╫──╫─┤M├──────\n",
            "         ├───┤ ░  ║  ║  ║  ║  ║  ║  ║  ║  ║  ║  ║  ║  ║ └╥┘┌─┐   \n",
            "   q_14: ┤ H ├─░──╫──╫──╫──╫──╫──╫──╫──╫──╫──╫──╫──╫──╫──╫─┤M├───\n",
            "         ├───┤ ░  ║  ║  ║  ║  ║  ║  ║  ║  ║  ║  ║  ║  ║  ║ └╥┘┌─┐\n",
            "   q_15: ┤ H ├─░──╫──╫──╫──╫──╫──╫──╫──╫──╫──╫──╫──╫──╫──╫──╫─┤M├\n",
            "         └───┘ ░  ║  ║  ║  ║  ║  ║  ║  ║  ║  ║  ║  ║  ║  ║  ║ └╥┘\n",
            "meas: 16/═════════╩══╩══╩══╩══╩══╩══╩══╩══╩══╩══╩══╩══╩══╩══╩══╩═\n",
            "                  0  1  2  3  4  5  6  7  8  9  10 11 12 13 14 15\n"
          ]
        }
      ]
    }
  ]
}