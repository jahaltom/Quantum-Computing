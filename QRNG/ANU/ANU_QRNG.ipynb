import requests

def get_qrng_bytes(length=32):
    """
    Fetch true quantum random bytes from ANU QRNG.
    length = number of uint8 values to request
    """
    url = f"https://qrng.anu.edu.au/API/jsonI.php?length={length}&type=uint8"

    try:
        response = requests.get(url, timeout=5)
        response.raise_for_status()
        data = response.json()

        if "data" not in data:
            raise ValueError("Malformed QRNG response")

        qrng_raw = data["data"]
        qrng_bytes = bytes(qrng_raw)

        print(f"✅ Received {length} quantum random bytes from ANU:")
        print("Raw uint8 array:", qrng_raw)
        print("Byte string:", qrng_bytes.hex())

        return qrng_bytes

    except Exception as e:
        print("❌ QRNG request failed:", e)
        return None

# Run once
get_qrng_bytes(32)
